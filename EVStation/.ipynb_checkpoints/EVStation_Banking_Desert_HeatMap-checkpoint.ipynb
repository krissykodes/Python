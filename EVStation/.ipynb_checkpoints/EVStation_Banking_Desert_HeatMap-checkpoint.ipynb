{
 "cells": [
  {
   "cell_type": "markdown",
   "metadata": {},
   "source": [
    "# Banking and Poverty\n",
    "---\n",
    "The below script explores the relationship between states with high poverty rates and bank counts per state.\n",
    "\n",
    "In this script, we retrieved and plotted data from the 2013 US Census and Google Places API to show the relationship between various socioeconomic parameters and bank count across 700 randomly selected zip codes. We used Pandas, Numpy, Matplotlib, Requests, Census API, and Google API to accomplish our task."
   ]
  },
  {
   "cell_type": "code",
   "execution_count": 127,
   "metadata": {},
   "outputs": [],
   "source": [
    "# Dependencies\n",
    "from census import Census\n",
    "from api_keys import (census_key, g_key)\n",
    "import gmaps\n",
    "import numpy as np\n",
    "import pandas as pd\n",
    "import requests\n",
    "import time\n",
    "from scipy.stats import linregress\n",
    "from matplotlib import pyplot as plt\n",
    "\n",
    "\n",
    "# Census API Key\n",
    "c = Census(census_key, year=2013)"
   ]
  },
  {
   "cell_type": "markdown",
   "metadata": {},
   "source": [
    "## Data Retrieval"
   ]
  },
  {
   "cell_type": "code",
   "execution_count": 128,
   "metadata": {},
   "outputs": [
    {
     "name": "stdout",
     "output_type": "stream",
     "text": [
      "33120\n"
     ]
    },
    {
     "data": {
      "text/html": [
       "<div>\n",
       "<style scoped>\n",
       "    .dataframe tbody tr th:only-of-type {\n",
       "        vertical-align: middle;\n",
       "    }\n",
       "\n",
       "    .dataframe tbody tr th {\n",
       "        vertical-align: top;\n",
       "    }\n",
       "\n",
       "    .dataframe thead th {\n",
       "        text-align: right;\n",
       "    }\n",
       "</style>\n",
       "<table border=\"1\" class=\"dataframe\">\n",
       "  <thead>\n",
       "    <tr style=\"text-align: right;\">\n",
       "      <th></th>\n",
       "      <th>Zipcode</th>\n",
       "      <th>Population</th>\n",
       "      <th>Poverty Rate</th>\n",
       "    </tr>\n",
       "  </thead>\n",
       "  <tbody>\n",
       "    <tr>\n",
       "      <th>0</th>\n",
       "      <td>00601</td>\n",
       "      <td>17113.0</td>\n",
       "      <td>61.660726</td>\n",
       "    </tr>\n",
       "    <tr>\n",
       "      <th>1</th>\n",
       "      <td>00602</td>\n",
       "      <td>37751.0</td>\n",
       "      <td>49.410612</td>\n",
       "    </tr>\n",
       "    <tr>\n",
       "      <th>2</th>\n",
       "      <td>00603</td>\n",
       "      <td>47081.0</td>\n",
       "      <td>50.319662</td>\n",
       "    </tr>\n",
       "    <tr>\n",
       "      <th>3</th>\n",
       "      <td>00606</td>\n",
       "      <td>6392.0</td>\n",
       "      <td>65.472466</td>\n",
       "    </tr>\n",
       "    <tr>\n",
       "      <th>4</th>\n",
       "      <td>00610</td>\n",
       "      <td>26686.0</td>\n",
       "      <td>45.731844</td>\n",
       "    </tr>\n",
       "  </tbody>\n",
       "</table>\n",
       "</div>"
      ],
      "text/plain": [
       "  Zipcode  Population  Poverty Rate\n",
       "0   00601     17113.0     61.660726\n",
       "1   00602     37751.0     49.410612\n",
       "2   00603     47081.0     50.319662\n",
       "3   00606      6392.0     65.472466\n",
       "4   00610     26686.0     45.731844"
      ]
     },
     "execution_count": 128,
     "metadata": {},
     "output_type": "execute_result"
    }
   ],
   "source": [
    "# Run Census Search to retrieve data on all zip codes (2013 ACS5 Census)\n",
    "# See: https://github.com/CommerceDataService/census-wrapper for library documentation\n",
    "# See: https://gist.github.com/afhaque/60558290d6efd892351c4b64e5c01e9b for labels\n",
    "census_data = c.acs5.get((\"B01003_001E\", \"B17001_002E\"), {'for': 'zip code tabulation area:*'})\n",
    "\n",
    "# Convert to DataFrame\n",
    "census_pd = pd.DataFrame(census_data)\n",
    "\n",
    "# Column Reordering\n",
    "census_pd = census_pd.rename(columns={\"B01003_001E\": \"Population\",\n",
    "                                      \"B17001_002E\": \"Poverty Count\",\n",
    "                                      \"zip code tabulation area\": \"Zipcode\"})\n",
    "\n",
    "# Add in Poverty Rate (Poverty Count / Population)\n",
    "census_pd[\"Poverty Rate\"] = 100 * \\\n",
    "    census_pd[\"Poverty Count\"].astype(\n",
    "        int) / census_pd[\"Population\"].astype(int)\n",
    "\n",
    "# Final DataFrame\n",
    "census_pd = census_pd[[\"Zipcode\", \"Population\", \"Poverty Rate\"]]\n",
    "\n",
    "# Visualize\n",
    "print(len(census_pd))\n",
    "census_pd.head()"
   ]
  },
  {
   "cell_type": "markdown",
   "metadata": {},
   "source": [
    "## Combine Data"
   ]
  },
  {
   "cell_type": "code",
   "execution_count": 129,
   "metadata": {},
   "outputs": [
    {
     "data": {
      "text/html": [
       "<div>\n",
       "<style scoped>\n",
       "    .dataframe tbody tr th:only-of-type {\n",
       "        vertical-align: middle;\n",
       "    }\n",
       "\n",
       "    .dataframe tbody tr th {\n",
       "        vertical-align: top;\n",
       "    }\n",
       "\n",
       "    .dataframe thead th {\n",
       "        text-align: right;\n",
       "    }\n",
       "</style>\n",
       "<table border=\"1\" class=\"dataframe\">\n",
       "  <thead>\n",
       "    <tr style=\"text-align: right;\">\n",
       "      <th></th>\n",
       "      <th>Unnamed: 0</th>\n",
       "      <th>State</th>\n",
       "      <th>city</th>\n",
       "      <th>Zipcode</th>\n",
       "      <th>latitude</th>\n",
       "      <th>longitude</th>\n",
       "      <th>counts</th>\n",
       "    </tr>\n",
       "  </thead>\n",
       "  <tbody>\n",
       "    <tr>\n",
       "      <th>0</th>\n",
       "      <td>0</td>\n",
       "      <td>CA</td>\n",
       "      <td>Sun Valley</td>\n",
       "      <td>91352</td>\n",
       "      <td>34.2483191527193</td>\n",
       "      <td>-118.3879713743439</td>\n",
       "      <td>6</td>\n",
       "    </tr>\n",
       "    <tr>\n",
       "      <th>1</th>\n",
       "      <td>6</td>\n",
       "      <td>CA</td>\n",
       "      <td>Los Angeles</td>\n",
       "      <td>90024</td>\n",
       "      <td>34.052542</td>\n",
       "      <td>-118.448504</td>\n",
       "      <td>1346</td>\n",
       "    </tr>\n",
       "    <tr>\n",
       "      <th>2</th>\n",
       "      <td>1352</td>\n",
       "      <td>CA</td>\n",
       "      <td>Rosemead</td>\n",
       "      <td>91770</td>\n",
       "      <td>34.050745</td>\n",
       "      <td>-118.081014</td>\n",
       "      <td>15</td>\n",
       "    </tr>\n",
       "    <tr>\n",
       "      <th>3</th>\n",
       "      <td>1367</td>\n",
       "      <td>CA</td>\n",
       "      <td>Long Beach</td>\n",
       "      <td>90803</td>\n",
       "      <td>33.759802</td>\n",
       "      <td>-118.096665</td>\n",
       "      <td>224</td>\n",
       "    </tr>\n",
       "    <tr>\n",
       "      <th>4</th>\n",
       "      <td>1591</td>\n",
       "      <td>CA</td>\n",
       "      <td>Sacramento</td>\n",
       "      <td>95814</td>\n",
       "      <td>38.576769</td>\n",
       "      <td>-121.495022</td>\n",
       "      <td>258</td>\n",
       "    </tr>\n",
       "  </tbody>\n",
       "</table>\n",
       "</div>"
      ],
      "text/plain": [
       "  Unnamed: 0 State         city Zipcode          latitude           longitude  \\\n",
       "0          0    CA   Sun Valley   91352  34.2483191527193  -118.3879713743439   \n",
       "1          6    CA  Los Angeles   90024         34.052542         -118.448504   \n",
       "2       1352    CA     Rosemead   91770         34.050745         -118.081014   \n",
       "3       1367    CA   Long Beach   90803         33.759802         -118.096665   \n",
       "4       1591    CA   Sacramento   95814         38.576769         -121.495022   \n",
       "\n",
       "  counts  \n",
       "0      6  \n",
       "1   1346  \n",
       "2     15  \n",
       "3    224  \n",
       "4    258  "
      ]
     },
     "execution_count": 129,
     "metadata": {},
     "output_type": "execute_result"
    }
   ],
   "source": [
    "# Import the zip bank data. Use dtype=\"object\" to ensure all data is read in accurately.\n",
    "census_data_original = pd.read_csv(\n",
    "    \"merged.csv\", dtype=\"object\", encoding=\"utf-8\")\n",
    "\n",
    "# Visualize\n",
    "census_data_original.head()"
   ]
  },
  {
   "cell_type": "code",
   "execution_count": 130,
   "metadata": {},
   "outputs": [
    {
     "data": {
      "text/html": [
       "<div>\n",
       "<style scoped>\n",
       "    .dataframe tbody tr th:only-of-type {\n",
       "        vertical-align: middle;\n",
       "    }\n",
       "\n",
       "    .dataframe tbody tr th {\n",
       "        vertical-align: top;\n",
       "    }\n",
       "\n",
       "    .dataframe thead th {\n",
       "        text-align: right;\n",
       "    }\n",
       "</style>\n",
       "<table border=\"1\" class=\"dataframe\">\n",
       "  <thead>\n",
       "    <tr style=\"text-align: right;\">\n",
       "      <th></th>\n",
       "      <th>Unnamed: 0</th>\n",
       "      <th>State</th>\n",
       "      <th>city</th>\n",
       "      <th>Zipcode</th>\n",
       "      <th>latitude</th>\n",
       "      <th>longitude</th>\n",
       "      <th>counts</th>\n",
       "      <th>Population</th>\n",
       "      <th>Poverty Rate</th>\n",
       "    </tr>\n",
       "  </thead>\n",
       "  <tbody>\n",
       "    <tr>\n",
       "      <th>0</th>\n",
       "      <td>0</td>\n",
       "      <td>CA</td>\n",
       "      <td>Sun Valley</td>\n",
       "      <td>91352</td>\n",
       "      <td>34.2483191527193</td>\n",
       "      <td>-118.3879713743439</td>\n",
       "      <td>6</td>\n",
       "      <td>47076.0</td>\n",
       "      <td>16.741015</td>\n",
       "    </tr>\n",
       "    <tr>\n",
       "      <th>1</th>\n",
       "      <td>6</td>\n",
       "      <td>CA</td>\n",
       "      <td>Los Angeles</td>\n",
       "      <td>90024</td>\n",
       "      <td>34.052542</td>\n",
       "      <td>-118.448504</td>\n",
       "      <td>1346</td>\n",
       "      <td>51627.0</td>\n",
       "      <td>23.388924</td>\n",
       "    </tr>\n",
       "    <tr>\n",
       "      <th>2</th>\n",
       "      <td>1352</td>\n",
       "      <td>CA</td>\n",
       "      <td>Rosemead</td>\n",
       "      <td>91770</td>\n",
       "      <td>34.050745</td>\n",
       "      <td>-118.081014</td>\n",
       "      <td>15</td>\n",
       "      <td>62703.0</td>\n",
       "      <td>13.843038</td>\n",
       "    </tr>\n",
       "    <tr>\n",
       "      <th>3</th>\n",
       "      <td>1367</td>\n",
       "      <td>CA</td>\n",
       "      <td>Long Beach</td>\n",
       "      <td>90803</td>\n",
       "      <td>33.759802</td>\n",
       "      <td>-118.096665</td>\n",
       "      <td>224</td>\n",
       "      <td>32126.0</td>\n",
       "      <td>8.572496</td>\n",
       "    </tr>\n",
       "    <tr>\n",
       "      <th>4</th>\n",
       "      <td>1591</td>\n",
       "      <td>CA</td>\n",
       "      <td>Sacramento</td>\n",
       "      <td>95814</td>\n",
       "      <td>38.576769</td>\n",
       "      <td>-121.495022</td>\n",
       "      <td>258</td>\n",
       "      <td>11908.0</td>\n",
       "      <td>23.387639</td>\n",
       "    </tr>\n",
       "  </tbody>\n",
       "</table>\n",
       "</div>"
      ],
      "text/plain": [
       "  Unnamed: 0 State         city Zipcode          latitude           longitude  \\\n",
       "0          0    CA   Sun Valley   91352  34.2483191527193  -118.3879713743439   \n",
       "1          6    CA  Los Angeles   90024         34.052542         -118.448504   \n",
       "2       1352    CA     Rosemead   91770         34.050745         -118.081014   \n",
       "3       1367    CA   Long Beach   90803         33.759802         -118.096665   \n",
       "4       1591    CA   Sacramento   95814         38.576769         -121.495022   \n",
       "\n",
       "  counts  Population  Poverty Rate  \n",
       "0      6     47076.0     16.741015  \n",
       "1   1346     51627.0     23.388924  \n",
       "2     15     62703.0     13.843038  \n",
       "3    224     32126.0      8.572496  \n",
       "4    258     11908.0     23.387639  "
      ]
     },
     "execution_count": 130,
     "metadata": {},
     "output_type": "execute_result"
    }
   ],
   "source": [
    "# Merge the two data sets along zip code\n",
    "census_data_complete = pd.merge(\n",
    "    census_data_original, census_pd, how=\"left\", on=[\"Zipcode\", \"Zipcode\"])\n",
    "\n",
    "# Remove rows missing data\n",
    "census_data_complete = census_data_complete.dropna()\n",
    "\n",
    "# Visualize\n",
    "census_data_complete.head()"
   ]
  },
  {
   "cell_type": "markdown",
   "metadata": {},
   "source": [
    "## Heatmap of Poverty Rate"
   ]
  },
  {
   "cell_type": "code",
   "execution_count": 131,
   "metadata": {},
   "outputs": [],
   "source": [
    "# Configure gmaps with API key\n",
    "gmaps.configure(api_key=g_key)"
   ]
  },
  {
   "cell_type": "code",
   "execution_count": 132,
   "metadata": {},
   "outputs": [],
   "source": [
    "# Store 'Lat' and 'Lng' into  locations \n",
    "locations = census_data_complete[[\"latitude\", \"longitude\"]].astype(float)\n",
    "\n",
    "# Convert Poverty Rate to float and store\n",
    "# HINT: be sure to handle NaN values\n",
    "census_data_complete = census_data_complete.dropna()\n",
    "poverty_rate = census_data_complete[\"Poverty Rate\"].astype(float)"
   ]
  },
  {
   "cell_type": "code",
   "execution_count": 133,
   "metadata": {},
   "outputs": [
    {
     "data": {
      "application/vnd.jupyter.widget-view+json": {
       "model_id": "910be6ed97f343bf84c862e295ddd83f",
       "version_major": 2,
       "version_minor": 0
      },
      "text/plain": [
       "Figure(layout=FigureLayout(height='420px'))"
      ]
     },
     "metadata": {},
     "output_type": "display_data"
    }
   ],
   "source": [
    "# Create a poverty Heatmap layer\n",
    "fig = gmaps.figure()\n",
    "\n",
    "heat_layer = gmaps.heatmap_layer(locations, weights=poverty_rate, \n",
    "                                 dissipating=False, max_intensity=400,\n",
    "                                 point_radius = 1)\n",
    "\n",
    "fig.add_layer(heat_layer)\n",
    "\n",
    "fig"
   ]
  },
  {
   "cell_type": "code",
   "execution_count": 134,
   "metadata": {},
   "outputs": [],
   "source": [
    "# Convert bank rate to list\n",
    "bank_rate = census_data_complete[\"counts\"].tolist()"
   ]
  },
  {
   "cell_type": "code",
   "execution_count": 135,
   "metadata": {
    "scrolled": true
   },
   "outputs": [
    {
     "data": {
      "application/vnd.jupyter.widget-view+json": {
       "model_id": "9a8324a3f98d4dfeab7cef600e25ef7d",
       "version_major": 2,
       "version_minor": 0
      },
      "text/plain": [
       "Figure(layout=FigureLayout(height='420px'))"
      ]
     },
     "metadata": {},
     "output_type": "display_data"
    }
   ],
   "source": [
    "# Create bank symbol layer\n",
    "bank_layer = gmaps.symbol_layer(\n",
    "    locations, fill_color='rgba(0, 150, 0, 0.4)',\n",
    "    stroke_color='rgba(0, 0, 150, 0.4)', scale=2,\n",
    "    info_box_content=[f\"Bank amount: {bank}\" for bank in bank_rate]\n",
    ")\n",
    "\n",
    "\n",
    "fig = gmaps.figure()\n",
    "fig.add_layer(bank_layer)\n",
    "\n",
    "fig"
   ]
  },
  {
   "cell_type": "code",
   "execution_count": 136,
   "metadata": {},
   "outputs": [
    {
     "data": {
      "application/vnd.jupyter.widget-view+json": {
       "model_id": "0b927b1e08c04759b9745f395218c6a4",
       "version_major": 2,
       "version_minor": 0
      },
      "text/plain": [
       "Figure(layout=FigureLayout(height='420px'))"
      ]
     },
     "metadata": {},
     "output_type": "display_data"
    }
   ],
   "source": [
    "# Create a combined map\n",
    "fig = gmaps.figure()\n",
    "\n",
    "fig.add_layer(heat_layer)\n",
    "fig.add_layer(bank_layer)\n",
    "\n",
    "fig"
   ]
  },
  {
   "cell_type": "markdown",
   "metadata": {},
   "source": [
    "## Statistical Analysis"
   ]
  },
  {
   "cell_type": "markdown",
   "metadata": {},
   "source": [
    "#### Summary Statistics"
   ]
  },
  {
   "cell_type": "code",
   "execution_count": 137,
   "metadata": {},
   "outputs": [
    {
     "name": "stdout",
     "output_type": "stream",
     "text": [
      "Poverty Rate Mean: 12.31\n",
      "Poverty Rate Median 10.99\n",
      "Poverty Rate mode 0    0.0\n",
      "dtype: float64\n"
     ]
    }
   ],
   "source": [
    "# Mean, median, mode for Poverty Rate\n",
    "poverty_mean = round(census_data_complete['Poverty Rate'].astype('float').mean(), 2)\n",
    "poverty_median = round(census_data_complete['Poverty Rate'].astype('float').median(), 2)\n",
    "poverty_mode = round(census_data_complete['Poverty Rate'].astype('float').mode(), 2)\n",
    "\n",
    "print(f\"Poverty Rate Mean: {poverty_mean}\")\n",
    "print(f\"Poverty Rate Median {poverty_median}\")\n",
    "print(f\"Poverty Rate mode {poverty_mode}\")"
   ]
  },
  {
   "cell_type": "code",
   "execution_count": 138,
   "metadata": {},
   "outputs": [
    {
     "name": "stdout",
     "output_type": "stream",
     "text": [
      "Bank Count Mean: 13.35\n",
      "Bank Count Median 3.0\n",
      "Bank Count mode 0    1.0\n",
      "dtype: float64\n"
     ]
    }
   ],
   "source": [
    "# Mean, median, mode for Bank Count\n",
    "bank_mean = round(census_data_complete['counts'].astype('float').mean(), 2)\n",
    "bank_median = round(census_data_complete['counts'].astype('float').median(), 2)\n",
    "bank_mode = round(census_data_complete['counts'].astype('float').mode(), 2)\n",
    "\n",
    "print(f\"Bank Count Mean: {bank_mean}\")\n",
    "print(f\"Bank Count Median {bank_median}\")\n",
    "print(f\"Bank Count mode {bank_mode}\")"
   ]
  },
  {
   "cell_type": "code",
   "execution_count": 139,
   "metadata": {},
   "outputs": [
    {
     "name": "stdout",
     "output_type": "stream",
     "text": [
      "Population Mean: 22398.76\n",
      "Population Median 17604.0\n",
      "Population mode 0     1103.0\n",
      "1    25175.0\n",
      "2    31085.0\n",
      "dtype: float64\n"
     ]
    }
   ],
   "source": [
    "# Mean, median, mode for Population\n",
    "population_mean = round(census_data_complete['Population'].astype('float').mean(), 2)\n",
    "population_median = round(census_data_complete['Population'].astype('float').median(), 2)\n",
    "population_mode = round(census_data_complete['Population'].astype('float').mode(), 2)\n",
    "\n",
    "print(f\"Population Mean: {population_mean}\")\n",
    "print(f\"Population Median {population_median}\")\n",
    "print(f\"Population mode {population_mode}\")"
   ]
  },
  {
   "cell_type": "markdown",
   "metadata": {},
   "source": [
    "#### Linear Regression"
   ]
  },
  {
   "cell_type": "code",
   "execution_count": 142,
   "metadata": {},
   "outputs": [
    {
     "name": "stdout",
     "output_type": "stream",
     "text": [
      "R squared: 2.9573029304877402e-05\n",
      "R squared: 0.17081842339752776\n"
     ]
    },
    {
     "data": {
      "image/png": "[encoded data removed]",
      "text/plain": [
       "<Figure size 432x288 with 1 Axes>"
      ]
     },
     "metadata": {
      "needs_background": "light"
     },
     "output_type": "display_data"
    }
   ],
   "source": [
    "## Convert to floats and store Poverty Rate and Bank Count as x and y values\n",
    "x_values = census_data_complete['Poverty Rate'].astype('float')\n",
    "y_values = census_data_complete['counts'].astype('float')\n",
    "\n",
    "# Run linear regression\n",
    "(slope, intercept, rvalue, pvalue, stderr) = linregress(x_values, y_values)\n",
    "regress_values = x_values * slope + intercept\n",
    "line_eq = \"y = \" + str(round(slope,2)) + \"x + \" + str(round(intercept,2))\n",
    "\n",
    "# Plot scatter plot\n",
    "plt.scatter(x_values,y_values)\n",
    "\n",
    "# Plot regression line\n",
    "plt.plot(x_values,regress_values,\"r-\")\n",
    "plt.annotate(line_eq,(6,10),fontsize=15,color=\"red\")\n",
    "\n",
    "# Label plot\n",
    "plt.xlabel('Poverty Rate')\n",
    "plt.ylabel('counts')\n",
    "\n",
    "# Print r square value\n",
    "print(f\"R squared: {rvalue**2}\")\n",
    "print(f\"R squared: {stderr}\")\n",
    "# Show plot\n",
    "plt.show()"
   ]
  },
  {
   "cell_type": "markdown",
   "metadata": {},
   "source": [
    "### Analysis\n",
    "* There is a very weak correlation between poverty rates and bank counts. Keep in mind that linear regression will not consider other factors such as population or size of the city."
   ]
  },
  {
   "cell_type": "code",
   "execution_count": null,
   "metadata": {},
   "outputs": [],
   "source": []
  }
 ],
 "metadata": {
  "kernelspec": {
   "display_name": "Python 3",
   "language": "python",
   "name": "python3"
  },
  "language_info": {
   "codemirror_mode": {
    "name": "ipython",
    "version": 3
   },
   "file_extension": ".py",
   "mimetype": "text/x-python",
   "name": "python",
   "nbconvert_exporter": "python",
   "pygments_lexer": "ipython3",
   "version": "3.8.5"
  },
  "latex_envs": {
   "LaTeX_envs_menu_present": true,
   "autoclose": false,
   "autocomplete": true,
   "bibliofile": "biblio.bib",
   "cite_by": "apalike",
   "current_citInitial": 1,
   "eqLabelWithNumbers": true,
   "eqNumInitial": 1,
   "hotkeys": {
    "equation": "Ctrl-E",
    "itemize": "Ctrl-I"
   },
   "labels_anchors": false,
   "latex_user_defs": false,
   "report_style_numbering": false,
   "user_envs_cfg": false
  }
 },
 "nbformat": 4,
 "nbformat_minor": 2
}

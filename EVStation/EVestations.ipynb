{
 "cells": [
  {
   "cell_type": "code",
   "execution_count": 95,
   "metadata": {},
   "outputs": [],
   "source": [
    "# Dependencies\n",
    "import requests\n",
    "import json\n",
    "import pandas as pd\n",
    "import numpy as np\n",
    "import sklearn.datasets as dta\n",
    "import scipy.stats as st\n",
    "# from config import get_key"
   ]
  },
  {
   "cell_type": "code",
   "execution_count": null,
   "metadata": {},
   "outputs": [],
   "source": []
  },
  {
   "cell_type": "code",
   "execution_count": 96,
   "metadata": {},
   "outputs": [],
   "source": [
    "# URL for GET requests to retrieve EV charging station data\n",
    "url = f\"https://developer.nrel.gov/api/alt-fuel-stations/v1.json?api_key=maEf7xJE7aNYy8fzfc7W9Irz2NVbYhhpveg6baXY&fuel_type=ELEC&state=WA,OR,CA,ID,UT,NV,AZ,WY,MT,NM,CO&limit=all\""
   ]
  },
  {
   "cell_type": "code",
   "execution_count": 97,
   "metadata": {
    "scrolled": false
   },
   "outputs": [],
   "source": [
    "# Pretty print JSON for all EV charging stations in WA,OR,CA,ID,UT,NV,AZ,WY,MT,NM and CO\n",
    "response = requests.get(url).json()\n",
    "# print(json.dumps(response, indent=4, sort_keys=True))"
   ]
  },
  {
   "cell_type": "code",
   "execution_count": 98,
   "metadata": {},
   "outputs": [],
   "source": [
    "#Create lists to cull out Zipcode, Latitude and Longitude response info:\n",
    "\n",
    "stations = response['fuel_stations']\n",
    "\n",
    "state = []\n",
    "city = []\n",
    "zip = []\n",
    "latitude = []\n",
    "longitude = []\n",
    "\n",
    "for station in stations:\n",
    "\n",
    "    state.append(station['state'])\n",
    "    city.append(station['city'])\n",
    "    zip.append(station['zip'])\n",
    "    latitude.append(station['latitude'])\n",
    "    longitude.append(station['longitude'])\n",
    "    "
   ]
  },
  {
   "cell_type": "code",
   "execution_count": 99,
   "metadata": {},
   "outputs": [
    {
     "data": {
      "text/html": [
       "<div>\n",
       "<style scoped>\n",
       "    .dataframe tbody tr th:only-of-type {\n",
       "        vertical-align: middle;\n",
       "    }\n",
       "\n",
       "    .dataframe tbody tr th {\n",
       "        vertical-align: top;\n",
       "    }\n",
       "\n",
       "    .dataframe thead th {\n",
       "        text-align: right;\n",
       "    }\n",
       "</style>\n",
       "<table border=\"1\" class=\"dataframe\">\n",
       "  <thead>\n",
       "    <tr style=\"text-align: right;\">\n",
       "      <th></th>\n",
       "      <th>State</th>\n",
       "      <th>city</th>\n",
       "      <th>Zipcode</th>\n",
       "      <th>latitude</th>\n",
       "      <th>longitude</th>\n",
       "    </tr>\n",
       "  </thead>\n",
       "  <tbody>\n",
       "    <tr>\n",
       "      <th>0</th>\n",
       "      <td>CA</td>\n",
       "      <td>Sun Valley</td>\n",
       "      <td>91352</td>\n",
       "      <td>34.248319</td>\n",
       "      <td>-118.387971</td>\n",
       "    </tr>\n",
       "    <tr>\n",
       "      <th>1</th>\n",
       "      <td>CA</td>\n",
       "      <td>Los Angeles</td>\n",
       "      <td>90024</td>\n",
       "      <td>34.052542</td>\n",
       "      <td>-118.448504</td>\n",
       "    </tr>\n",
       "    <tr>\n",
       "      <th>2</th>\n",
       "      <td>CA</td>\n",
       "      <td>Rosemead</td>\n",
       "      <td>91770</td>\n",
       "      <td>34.050745</td>\n",
       "      <td>-118.081014</td>\n",
       "    </tr>\n",
       "    <tr>\n",
       "      <th>3</th>\n",
       "      <td>CA</td>\n",
       "      <td>Los Angeles</td>\n",
       "      <td>90015</td>\n",
       "      <td>34.040539</td>\n",
       "      <td>-118.271387</td>\n",
       "    </tr>\n",
       "    <tr>\n",
       "      <th>4</th>\n",
       "      <td>CA</td>\n",
       "      <td>Los Angeles</td>\n",
       "      <td>90012</td>\n",
       "      <td>34.059133</td>\n",
       "      <td>-118.248589</td>\n",
       "    </tr>\n",
       "  </tbody>\n",
       "</table>\n",
       "</div>"
      ],
      "text/plain": [
       "  State         city Zipcode   latitude   longitude\n",
       "0    CA   Sun Valley   91352  34.248319 -118.387971\n",
       "1    CA  Los Angeles   90024  34.052542 -118.448504\n",
       "2    CA     Rosemead   91770  34.050745 -118.081014\n",
       "3    CA  Los Angeles   90015  34.040539 -118.271387\n",
       "4    CA  Los Angeles   90012  34.059133 -118.248589"
      ]
     },
     "execution_count": 99,
     "metadata": {},
     "output_type": "execute_result"
    }
   ],
   "source": [
    "#Create a data frame from State, Zipcode, Latitude and Longitude:\n",
    "\n",
    "EVstation_dict = {\n",
    "                \"State\": state,\n",
    "                \"city\": city,\n",
    "                \"Zipcode\": zip,\n",
    "                \"latitude\": latitude,\n",
    "                \"longitude\": longitude\n",
    "                }\n",
    "\n",
    "EVstation_data = pd.DataFrame(EVstation_dict)\n",
    "EVstation_data.head()"
   ]
  },
  {
   "cell_type": "code",
   "execution_count": 100,
   "metadata": {},
   "outputs": [
    {
     "data": {
      "text/plain": [
       "20562"
      ]
     },
     "execution_count": 100,
     "metadata": {},
     "output_type": "execute_result"
    }
   ],
   "source": [
    "len(EVstation_data)"
   ]
  },
  {
   "cell_type": "code",
   "execution_count": 101,
   "metadata": {
    "scrolled": true
   },
   "outputs": [],
   "source": [
    "# EVstation_data.dtypes\n",
    "# EVstation_data['Zipcode']=EVstation_data['Zipcode'].astype(str)\n",
    "columncount =EVstation_data.groupby(['city','State']).size().reset_index(name='counts')\n",
    "columncount.head(50)\n",
    "merged = pd.merge(EVstation_data,columncount,on=['city','State'],how='inner')\n",
    "merged.head(50)\n",
    "merged.drop_duplicates(subset=['city','State'],inplace=True)\n",
    "merged.to_csv(\"merged.csv\")\n",
    "\n",
    "#\n",
    "# len(columncount)\n"
   ]
  },
  {
   "cell_type": "code",
   "execution_count": 102,
   "metadata": {},
   "outputs": [],
   "source": [
    "# Evmerged = pd.merge(hopes_awesome_file,EVstation_data,how = \"inner\", on=\"Zipcode\")"
   ]
  },
  {
   "cell_type": "code",
   "execution_count": 103,
   "metadata": {},
   "outputs": [],
   "source": [
    "# Evmerged.head()"
   ]
  },
  {
   "cell_type": "code",
   "execution_count": 104,
   "metadata": {},
   "outputs": [],
   "source": [
    "# len(Evmerged[\"Zipcode\"])"
   ]
  },
  {
   "cell_type": "code",
   "execution_count": 105,
   "metadata": {},
   "outputs": [],
   "source": [
    "# Evmerged.rename(columns={\"State ID\":\"Number of Stations\", \"State_y\": \"State\"}, inplace=True)\n",
    "# Evmerged[\"Number of Stations\"] = 1\n",
    "# Evmerged.head()"
   ]
  },
  {
   "cell_type": "code",
   "execution_count": 106,
   "metadata": {},
   "outputs": [],
   "source": [
    "# del Evmerged[\"State_x\"]\n",
    "# Evmerged.head()"
   ]
  },
  {
   "cell_type": "code",
   "execution_count": 107,
   "metadata": {},
   "outputs": [],
   "source": [
    "# Evmerged['Zipcode'] = Evmerged['Zipcode'].astype(str)\n",
    "# Evmerged_zip = Evmerged.groupby(['Zipcode']).sum()\n",
    "# #pd.set_option(\"max_rows\", None)\n",
    "# Evmerged_zip.head()"
   ]
  },
  {
   "cell_type": "code",
   "execution_count": 108,
   "metadata": {
    "scrolled": true
   },
   "outputs": [],
   "source": [
    "# len(Evmerged_zip)"
   ]
  },
  {
   "cell_type": "code",
   "execution_count": 109,
   "metadata": {},
   "outputs": [],
   "source": [
    "# del Evmerged_zip['Poverty Rate']\n",
    "# #del Evmerged_zip['Average Commute Time']\n",
    "# #del Evmerged_zip['Average Vehicles per Household']\n",
    "# #del Evmerged_zip['latitude']\n",
    "# #del Evmerged_zip['longitude']\n",
    "# Evmerged_zip.head()"
   ]
  },
  {
   "cell_type": "code",
   "execution_count": 110,
   "metadata": {},
   "outputs": [],
   "source": [
    "# EVcorr = Evmerged_zip\n",
    "# EVcorr.head()"
   ]
  },
  {
   "cell_type": "code",
   "execution_count": 111,
   "metadata": {},
   "outputs": [],
   "source": [
    "# EV_corr = EVcorr.corr()\n",
    "# EV_corr.unstack().sort_values()"
   ]
  },
  {
   "cell_type": "code",
   "execution_count": 112,
   "metadata": {},
   "outputs": [],
   "source": [
    "# import seaborn as sns\n",
    "\n",
    "# sns.heatmap(EV_corr.corr(), cmap=\"Greens\");"
   ]
  },
  {
   "cell_type": "code",
   "execution_count": null,
   "metadata": {},
   "outputs": [],
   "source": []
  }
 ],
 "metadata": {
  "kernelspec": {
   "display_name": "Python 3",
   "language": "python",
   "name": "python3"
  },
  "language_info": {
   "codemirror_mode": {
    "name": "ipython",
    "version": 3
   },
   "file_extension": ".py",
   "mimetype": "text/x-python",
   "name": "python",
   "nbconvert_exporter": "python",
   "pygments_lexer": "ipython3",
   "version": "3.8.5"
  }
 },
 "nbformat": 4,
 "nbformat_minor": 4
}
